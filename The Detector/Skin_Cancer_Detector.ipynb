{
  "nbformat": 4,
  "nbformat_minor": 0,
  "metadata": {
    "colab": {
      "name": "Skin_Cancer_Detector.ipynb",
      "provenance": [],
      "collapsed_sections": [],
      "include_colab_link": true
    },
    "kernelspec": {
      "name": "python3",
      "display_name": "Python 3"
    }
  },
  "cells": [
    {
      "cell_type": "markdown",
      "metadata": {
        "id": "view-in-github",
        "colab_type": "text"
      },
      "source": [
        "<a href=\"https://colab.research.google.com/github/Black-Coders-NIT/THE_SKIN_CANCER_DETECTOR/blob/master/The%20Detector/Skin_Cancer_Detector.ipynb\" target=\"_parent\"><img src=\"https://colab.research.google.com/assets/colab-badge.svg\" alt=\"Open In Colab\"/></a>"
      ]
    },
    {
      "cell_type": "code",
      "metadata": {
        "id": "kJbTEHKmbvFY"
      },
      "source": [
        "import tensorflow.keras\r\n",
        "from PIL import Image as I \r\n",
        "from PIL import ImageOps\r\n",
        "from google.colab import files\r\n",
        "from IPython.display import Image\r\n",
        "import numpy as np"
      ],
      "execution_count": null,
      "outputs": []
    },
    {
      "cell_type": "code",
      "metadata": {
        "id": "MakRpQtHbxoE"
      },
      "source": [
        "np.set_printoptions(suppress=True)"
      ],
      "execution_count": null,
      "outputs": []
    },
    {
      "cell_type": "code",
      "metadata": {
        "id": "24SB1rqmb6Vo"
      },
      "source": [
        "model = tensorflow.keras.models.load_model('/content/drive/MyDrive/Carcinomator/keras_model.h5')"
      ],
      "execution_count": null,
      "outputs": []
    },
    {
      "cell_type": "code",
      "metadata": {
        "id": "igON-5SJb_Jj"
      },
      "source": [
        "data = np.ndarray(shape=(1, 224, 224, 3), dtype=np.float32)"
      ],
      "execution_count": null,
      "outputs": []
    },
    {
      "cell_type": "code",
      "metadata": {
        "id": "YZ7kbQ4WcDmG"
      },
      "source": [
        "image_upl = files.upload()\r\n",
        "image_upl=list(image_upl.items())[0][0]\r\n",
        "image=I.open(image_upl)"
      ],
      "execution_count": null,
      "outputs": []
    },
    {
      "cell_type": "code",
      "metadata": {
        "id": "SUdcr6Agdfsa"
      },
      "source": [
        "Image(image_upl,width=500)"
      ],
      "execution_count": null,
      "outputs": []
    },
    {
      "cell_type": "code",
      "metadata": {
        "id": "2qz8v5qGrMrP"
      },
      "source": [
        "size = (224, 224)\r\n",
        "image = ImageOps.fit(image, size, I.ANTIALIAS)"
      ],
      "execution_count": null,
      "outputs": []
    },
    {
      "cell_type": "code",
      "metadata": {
        "id": "1-NXFWRscOvi"
      },
      "source": [
        "image_array = np.asarray(image)"
      ],
      "execution_count": null,
      "outputs": []
    },
    {
      "cell_type": "code",
      "metadata": {
        "id": "MnjTRY2bcT1Q"
      },
      "source": [
        "normalized_image_array  =(image_array.astype(np.float32) / 127.0) - 1"
      ],
      "execution_count": null,
      "outputs": []
    },
    {
      "cell_type": "code",
      "metadata": {
        "id": "G_vzK7jpcWY4"
      },
      "source": [
        "data[0] = normalized_image_array"
      ],
      "execution_count": null,
      "outputs": []
    },
    {
      "cell_type": "code",
      "metadata": {
        "id": "SipMjeywcZeM"
      },
      "source": [
        "prediction = model.predict(data)\r\n",
        "print(\"[Skin Cancer   Other Skin Problem]\")\r\n",
        "print(prediction[0]*100)"
      ],
      "execution_count": null,
      "outputs": []
    }
  ]
}